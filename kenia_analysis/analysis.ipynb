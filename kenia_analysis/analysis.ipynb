{
 "cells": [
  {
   "cell_type": "code",
   "execution_count": null,
   "metadata": {},
   "outputs": [],
   "source": [
    "import pandas as pd\n",
    "import matplotlib.pyplot as plt\n",
    "import scipy.stats as st\n",
    "import numpy as np\n"
   ]
  },
  {
   "cell_type": "code",
   "execution_count": null,
   "metadata": {},
   "outputs": [],
   "source": [
    "# creat file path to csv\n",
    "data_df= pd.read_csv(\"../data/Provisional_COVID-19_Deaths_by_Sex_and_Age.csv\")\n",
    "data_df.head()\n",
    "\n",
    "#delete unecessary columns\n",
    "covid_deaths_df= data_df[['Data As Of','State','Start Date','End Date','Sex',\n",
    "                                     'Age Group','COVID-19 Deaths','Total Deaths','Pneumonia and COVID-19 Deaths',\n",
    "                                     ]]\n",
    "covid_deaths_df.head(52)        \n"
   ]
  },
  {
   "cell_type": "code",
   "execution_count": null,
   "metadata": {},
   "outputs": [],
   "source": [
    "covid_deaths_df.dtypes"
   ]
  },
  {
   "cell_type": "code",
   "execution_count": null,
   "metadata": {},
   "outputs": [],
   "source": [
    "#removing male/female\n",
    "all_sexes_covid_deaths_df= covid_deaths_df.loc[(covid_deaths_df['Sex']=='All Sexes')&(covid_deaths_df['Age Group']=='All Ages')]\n",
    "all_sexes_covid_deaths_df.head(52)"
   ]
  },
  {
   "cell_type": "code",
   "execution_count": null,
   "metadata": {},
   "outputs": [],
   "source": [
    "#confirming which states are under column state in order to filter out any unwanted \"states\"\n",
    "unique_values = all_sexes_covid_deaths_df['State'].unique()\n",
    "unique_values"
   ]
  },
  {
   "cell_type": "code",
   "execution_count": null,
   "metadata": {},
   "outputs": [],
   "source": [
    "#filter out unwanted data in the States column that we are not using for analysis\n",
    "filtered_by_state= all_sexes_covid_deaths_df.loc[(all_sexes_covid_deaths_df ['State']!='Puerto Rico') & (all_sexes_covid_deaths_df['State']!='United States')\n",
    "                                      & (all_sexes_covid_deaths_df['State']!= 'District of Columbia')] \n",
    "\n",
    "filling_null_df= filtered_by_state.fillna(0) \n",
    "filling_null_df.head(52)"
   ]
  },
  {
   "cell_type": "code",
   "execution_count": null,
   "metadata": {},
   "outputs": [],
   "source": [
    "drop_dupe= filling_null_df.drop_duplicates(subset=['State'])\n",
    "drop_dupe.head(53)\n"
   ]
  },
  {
   "cell_type": "code",
   "execution_count": null,
   "metadata": {},
   "outputs": [],
   "source": [
    "drop_dupe.to_csv(\"CLEAN_FINAL2_Provisional_COVID-19_Deaths_by_Sex_and_Age.csv\", index = False)\n",
    "drop_dupe.head(53)"
   ]
  },
  {
   "cell_type": "code",
   "execution_count": null,
   "metadata": {},
   "outputs": [],
   "source": [
    "unique_values = drop_dupe['State'].unique()\n",
    "unique_values"
   ]
  },
  {
   "cell_type": "code",
   "execution_count": null,
   "metadata": {},
   "outputs": [],
   "source": [
    "clean_df=pd.read_csv(\"../data/CLEAN_FINAL2_Provisional_COVID-19_Deaths_by_Sex_and_Age.csv\")\n",
    "clean_df.head(53)"
   ]
  },
  {
   "cell_type": "code",
   "execution_count": null,
   "metadata": {},
   "outputs": [],
   "source": [
    "#making bar graph using groupby function to display COVID-19 deaths per state \n",
    "grouped_by_df = clean_df.groupby(['State'])['COVID-19 Deaths'].sum().reset_index()\n",
    "\n",
    "#plot bar graph\n",
    "grouped_by_df.plot(kind='bar', x='State', y='COVID-19 Deaths', legend=False)\n",
    "\n",
    "# Add labels and title\n",
    "plt.xlabel('State')\n",
    "plt.ylabel('COVID-19 Deaths')\n",
    "plt.title('COVID-19 Deaths per State')\n"
   ]
  },
  {
   "cell_type": "code",
   "execution_count": null,
   "metadata": {},
   "outputs": [],
   "source": [
    "#making bar graph using groupby function to display Pneumonia and COVID-19 Deaths \n",
    "grouped_by_df = clean_df.groupby(['State'])['Pneumonia and COVID-19 Deaths'].sum().reset_index()\n",
    "\n",
    "#plot bar graph\n",
    "grouped_by_df.plot(kind='bar', x='State', y='Pneumonia and COVID-19 Deaths', legend=False)\n",
    "\n",
    "# Add labels and title\n",
    "plt.xlabel('State')\n",
    "plt.ylabel('Pneumonia and COVID-19 Deaths')\n",
    "plt.title('Pneumonia and COVID-19 Deaths per State')\n"
   ]
  },
  {
   "cell_type": "code",
   "execution_count": null,
   "metadata": {},
   "outputs": [],
   "source": [
    "#make dataframe to group states by regions\n",
    "def assign_region(state):\n",
    "    # Replace these conditions with your criteria\n",
    "    if state in ['Maine', 'New Hampshire', 'Vermont', 'Massachusetts', 'Rhode Island', 'Connecticut', 'New York', 'New Jersey', 'Pennsylvania']:\n",
    "        return 'Northeast'\n",
    "    elif state in ['Ohio', 'Michigan', 'Indiana', 'Illinois', 'Wisconsin', 'Minnesota', 'Iowa', 'Missouri', 'Kansas','North Dakota', 'South Dakota','Nebraska']:\n",
    "        return 'Midwest'\n",
    "    elif state in ['Delaware', 'Maryland', 'Virginia', 'West Virginia', 'Kentucky', 'North Carolina', 'South Carolina', 'Georgia', 'Florida', 'Alabama', 'Tennessee', 'Mississippi', 'Louisiana', 'Arkansas', 'Texas', 'Oklahoma']:\n",
    "        return 'South'\n",
    "    elif state in ['Montana', 'Idaho', 'Wyoming', 'Colorado', 'New Mexico', 'Arizona', 'Utah', 'Nevada', 'California', 'Oregon', 'Washington', 'Alaska', 'Hawaii']:\n",
    "        return 'West'\n",
    "    else:\n",
    "        return 'Unknown'\n",
    "clean_df['Region'] = clean_df['State'].apply(assign_region)\n",
    "\n"
   ]
  },
  {
   "cell_type": "code",
   "execution_count": null,
   "metadata": {},
   "outputs": [],
   "source": [
    "region_population = clean_df.groupby('Region')['COVID-19 Deaths'].sum()\n",
    "# Create a pie chart\n",
    "plt.pie(region_population, labels=region_population.index, autopct='%1.1f%%', startangle=140)\n",
    "plt.title('COVID-19 Deaths Per Region')\n",
    "plt.axis('equal')  # Equal aspect ratio ensures that the pie chart is circular\n",
    "plt.show()"
   ]
  },
  {
   "cell_type": "code",
   "execution_count": null,
   "metadata": {},
   "outputs": [],
   "source": [
    "region_population = clean_df.groupby('Region')['Pneumonia and COVID-19 Deaths'].sum()\n",
    "\n",
    "# Create a pie chart\n",
    "plt.pie(region_population, labels=region_population.index, autopct='%1.1f%%', startangle=140)\n",
    "plt.title('Pnuemonia and COVID-19 Deaths Per Region')\n",
    "plt.axis('equal')  # Equal aspect ratio ensures that the pie chart is circular\n",
    "plt.show()"
   ]
  },
  {
   "cell_type": "code",
   "execution_count": null,
   "metadata": {},
   "outputs": [],
   "source": [
    "region_sum =clean_df.groupby('Region')['COVID-19 Deaths'].sum()\n",
    "region_sum_df= pd.DataFrame(region_sum)\n",
    "region_sum_df.reset_index(inplace=True)\n",
    "region_sum_df"
   ]
  },
  {
   "cell_type": "code",
   "execution_count": null,
   "metadata": {},
   "outputs": [],
   "source": [
    "#make histogram per region of covid-19 deaths\n",
    "\n",
    "# Plotting a histogram\n",
    "region_sum_df.plot(kind='hist', alpha=0.5, legend=True,)\n",
    "plt.title('COVID-19 Deaths Per Region')\n",
    "plt.xlabel('Region')\n",
    "plt.ylabel('COVID-19 Deaths')\n",
    "plt.show()"
   ]
  },
  {
   "cell_type": "code",
   "execution_count": null,
   "metadata": {},
   "outputs": [],
   "source": [
    "#make histogram per region of covid-19 & pnuemonia deaths\n",
    "clean_df.groupby('Region')['Pneumonia and COVID-19 Deaths'].plot(kind='hist', alpha=0.5, legend=True)\n",
    "plt.title('Pneumonia and COVID-19 Deaths Per Region')\n",
    "plt.xlabel('Region')\n",
    "plt.ylabel('Pneumonia and COVID-19 Deaths')\n",
    "plt.show()"
   ]
  },
  {
   "cell_type": "code",
   "execution_count": null,
   "metadata": {},
   "outputs": [],
   "source": [
    "# Create a box-and-whisker plot for covid-19 deaths by regions\n",
    "clean_df.boxplot(column='COVID-19 Deaths', by='Region', notch=True, vert=False)\n",
    "plt.title('Box-and-Whisker Plot of COVID-19 Deaths by Region')\n",
    "plt.xlabel('COVID-19 Deaths')\n",
    "plt.ylabel('Region')\n",
    "plt.show()"
   ]
  },
  {
   "cell_type": "code",
   "execution_count": null,
   "metadata": {},
   "outputs": [],
   "source": [
    "# Create a box-and-whisker plot of covid-19 and pneumonia deaths by regions\n",
    "clean_df.boxplot(column='Pneumonia and COVID-19 Deaths', by='Region', notch=True, vert=False)\n",
    "plt.title('Box-and-Whisker Plot of Pneumonia and COVID-19 Deaths by Region')\n",
    "plt.xlabel('Pneumonia and COVID-19 Deaths')\n",
    "plt.ylabel('Region')\n",
    "plt.show()"
   ]
  },
  {
   "cell_type": "code",
   "execution_count": null,
   "metadata": {},
   "outputs": [],
   "source": [
    "#read in clean and merged data\n",
    "merged_df= pd.read_csv(\"../data/CLEAN_merged_all.csv\")\n",
    "merged_df.head(50)"
   ]
  },
  {
   "cell_type": "code",
   "execution_count": null,
   "metadata": {},
   "outputs": [],
   "source": [
    "#pie chart for 18+ with a completed series by region\n",
    "#groupby_18 = merged_df.groupby('Region')['Residents 18+ with a completed primary series'].mean()\n",
    "merged_df.groupby(['Region']).sum().plot(kind='pie', y='Residents 18+ with a completed primary series', autopct='%1.1f%%')\n",
    "# Create a pie chart\n",
    "# plt.pie(groupby_18, labels=groupby_18.index, autopct='%1.1f%%', startangle=140)\n",
    "# plt.title('18+ With A Completed Vaccination Series Per Region')\n",
    "# plt.axis('equal')  # Equal aspect ratio ensures that the pie chart is circular\n",
    "# plt.show()\n"
   ]
  },
  {
   "cell_type": "code",
   "execution_count": null,
   "metadata": {},
   "outputs": [],
   "source": [
    "set_index = merged_df.set_index('State')\n",
    "set_index.head()"
   ]
  },
  {
   "cell_type": "code",
   "execution_count": null,
   "metadata": {},
   "outputs": [],
   "source": [
    "#pie chart for 65+ with a completed series by region\n",
    "groupby_5 = merged_df.groupby('Region')['Residents 5+ with a completed primary series'].mean()\n",
    "\n",
    "# Create a pie chart\n",
    "plt.pie(groupby_5, labels=groupby_18.index, autopct='%1.1f%%', startangle=140)\n",
    "plt.title('5+ With A Completed Vaccination Series Per Region')\n",
    "plt.axis('equal')  # Equal aspect ratio ensures that the pie chart is circular\n",
    "plt.show()"
   ]
  },
  {
   "cell_type": "code",
   "execution_count": null,
   "metadata": {},
   "outputs": [],
   "source": [
    "merged_df.head(50)"
   ]
  },
  {
   "cell_type": "code",
   "execution_count": null,
   "metadata": {},
   "outputs": [],
   "source": [
    "# #large state populations \n",
    "# large_states= merged_df.loc[merged_df['2022 Population Estimate']>=22244823]\n",
    "# large_states.head()"
   ]
  },
  {
   "cell_type": "code",
   "execution_count": null,
   "metadata": {},
   "outputs": [],
   "source": [
    "#medium state populations\n",
    "# medium_states_rows= merged_df.loc[(merged_df['2022 Population Estimate'] < 22244823)&(merged_df['2022 Population Estimate'] > 4129968)]\n",
    "# medium_states_rows.head(23)"
   ]
  },
  {
   "cell_type": "code",
   "execution_count": null,
   "metadata": {},
   "outputs": [],
   "source": [
    "# small_states_rows= merged_df.loc[merged_df['2022 Population Estimate']< 4129968]\n",
    "# small_states_rows.head(23)"
   ]
  },
  {
   "cell_type": "code",
   "execution_count": null,
   "metadata": {},
   "outputs": [],
   "source": [
    "large_states['COVID-19 Deaths'].plot(kind='hist', alpha=0.5, legend=True,)\n",
    "plt.title('COVID-19 Deaths Per Region')\n",
    "plt.xlabel('Region')\n",
    "plt.ylabel('COVID-19 Deaths')\n",
    "plt.show()"
   ]
  },
  {
   "cell_type": "code",
   "execution_count": null,
   "metadata": {},
   "outputs": [],
   "source": [
    "small_states_rows['COVID-19 Deaths'].plot(kind='hist', alpha=0.5, legend=True,)\n",
    "plt.title('COVID-19 Deaths')\n",
    "plt.xlabel('Region')\n",
    "plt.ylabel('COVID-19 Deaths')\n",
    "plt.show()"
   ]
  },
  {
   "cell_type": "code",
   "execution_count": null,
   "metadata": {},
   "outputs": [],
   "source": [
    "large_states_deaths = large_states.plot(kind='bar', figsize=(6,4), x='State', y=['Total Deaths', 'COVID-19 Deaths'], rot=45, color=['blue', 'pink'])\n",
    "plt.tight_layout()"
   ]
  },
  {
   "cell_type": "code",
   "execution_count": null,
   "metadata": {},
   "outputs": [],
   "source": [
    "medium_states_deaths= medium_states_rows.plot(kind='bar',figsize=(10,8),x='State',y=['Total Deaths','COVID-19 Deaths'], rot=90,color=['green','purple'])"
   ]
  },
  {
   "cell_type": "code",
   "execution_count": null,
   "metadata": {},
   "outputs": [],
   "source": [
    "xl_data_df= pd.read_csv(\"../data/XL_state_rows.csv\")\n",
    "large_data_df= pd.read_csv(\"../data/large_state_rows.csv\")\n",
    "medium_data_df= pd.read_csv(\"../data/medium_state_rows.csv\")\n",
    "small_data_df=pd.read_csv(\"../data/small_state_rows.csv\")\n",
    "small_data_df.head(20)"
   ]
  },
  {
   "cell_type": "code",
   "execution_count": 171,
   "metadata": {},
   "outputs": [
    {
     "data": {
      "text/html": [
       "<div>\n",
       "<style scoped>\n",
       "    .dataframe tbody tr th:only-of-type {\n",
       "        vertical-align: middle;\n",
       "    }\n",
       "\n",
       "    .dataframe tbody tr th {\n",
       "        vertical-align: top;\n",
       "    }\n",
       "\n",
       "    .dataframe thead th {\n",
       "        text-align: right;\n",
       "    }\n",
       "</style>\n",
       "<table border=\"1\" class=\"dataframe\">\n",
       "  <thead>\n",
       "    <tr style=\"text-align: right;\">\n",
       "      <th></th>\n",
       "      <th>State</th>\n",
       "      <th>2022 Population Estimate</th>\n",
       "      <th>Region</th>\n",
       "      <th>Total doses distributed</th>\n",
       "      <th>Total doses administered by jurisdiction</th>\n",
       "      <th>Residents with at least one dose</th>\n",
       "      <th>Percent of total pop with at least one dose</th>\n",
       "      <th>Residents 18+ with a completed primary series</th>\n",
       "      <th>Residents 65+ with at least one dose</th>\n",
       "      <th>Residents 65+ with a completed primary series</th>\n",
       "      <th>...</th>\n",
       "      <th>Residents 5+ with at least one dose</th>\n",
       "      <th>Residents 5+ with a completed primary series</th>\n",
       "      <th>Data As Of</th>\n",
       "      <th>Start Date</th>\n",
       "      <th>End Date</th>\n",
       "      <th>Sex</th>\n",
       "      <th>Age Group</th>\n",
       "      <th>COVID-19 Deaths</th>\n",
       "      <th>Total Deaths</th>\n",
       "      <th>Pneumonia and COVID-19 Deaths</th>\n",
       "    </tr>\n",
       "  </thead>\n",
       "  <tbody>\n",
       "    <tr>\n",
       "      <th>0</th>\n",
       "      <td>Massachusetts</td>\n",
       "      <td>6981974</td>\n",
       "      <td>Northeast</td>\n",
       "      <td>23747420</td>\n",
       "      <td>18179748</td>\n",
       "      <td>7393770</td>\n",
       "      <td>95.0</td>\n",
       "      <td>5087207</td>\n",
       "      <td>1549552</td>\n",
       "      <td>1229041</td>\n",
       "      <td>...</td>\n",
       "      <td>7306432</td>\n",
       "      <td>5770765</td>\n",
       "      <td>09/27/2023</td>\n",
       "      <td>01/01/2020</td>\n",
       "      <td>09/23/2023</td>\n",
       "      <td>All Sexes</td>\n",
       "      <td>All Ages</td>\n",
       "      <td>21286.0</td>\n",
       "      <td>240422.0</td>\n",
       "      <td>8700.0</td>\n",
       "    </tr>\n",
       "    <tr>\n",
       "      <th>1</th>\n",
       "      <td>New Jersey</td>\n",
       "      <td>9261699</td>\n",
       "      <td>Northeast</td>\n",
       "      <td>29637655</td>\n",
       "      <td>19826065</td>\n",
       "      <td>8430561</td>\n",
       "      <td>94.9</td>\n",
       "      <td>6195423</td>\n",
       "      <td>1686625</td>\n",
       "      <td>1439157</td>\n",
       "      <td>...</td>\n",
       "      <td>8374653</td>\n",
       "      <td>7008596</td>\n",
       "      <td>09/27/2023</td>\n",
       "      <td>01/01/2020</td>\n",
       "      <td>09/23/2023</td>\n",
       "      <td>All Sexes</td>\n",
       "      <td>All Ages</td>\n",
       "      <td>35691.0</td>\n",
       "      <td>312963.0</td>\n",
       "      <td>17287.0</td>\n",
       "    </tr>\n",
       "    <tr>\n",
       "      <th>2</th>\n",
       "      <td>Pennsylvania</td>\n",
       "      <td>12972008</td>\n",
       "      <td>Northeast</td>\n",
       "      <td>42895735</td>\n",
       "      <td>27586432</td>\n",
       "      <td>11666613</td>\n",
       "      <td>91.1</td>\n",
       "      <td>8447352</td>\n",
       "      <td>2919117</td>\n",
       "      <td>2445124</td>\n",
       "      <td>...</td>\n",
       "      <td>11562144</td>\n",
       "      <td>9373738</td>\n",
       "      <td>09/27/2023</td>\n",
       "      <td>01/01/2020</td>\n",
       "      <td>09/23/2023</td>\n",
       "      <td>All Sexes</td>\n",
       "      <td>All Ages</td>\n",
       "      <td>53049.0</td>\n",
       "      <td>557522.0</td>\n",
       "      <td>22981.0</td>\n",
       "    </tr>\n",
       "    <tr>\n",
       "      <th>3</th>\n",
       "      <td>Illinois</td>\n",
       "      <td>12582032</td>\n",
       "      <td>Midwest</td>\n",
       "      <td>38328915</td>\n",
       "      <td>26859342</td>\n",
       "      <td>10036899</td>\n",
       "      <td>79.2</td>\n",
       "      <td>7874806</td>\n",
       "      <td>2011136</td>\n",
       "      <td>1865350</td>\n",
       "      <td>...</td>\n",
       "      <td>9928857</td>\n",
       "      <td>8988132</td>\n",
       "      <td>09/27/2023</td>\n",
       "      <td>01/01/2020</td>\n",
       "      <td>09/23/2023</td>\n",
       "      <td>All Sexes</td>\n",
       "      <td>All Ages</td>\n",
       "      <td>38724.0</td>\n",
       "      <td>446027.0</td>\n",
       "      <td>19882.0</td>\n",
       "    </tr>\n",
       "    <tr>\n",
       "      <th>4</th>\n",
       "      <td>Michigan</td>\n",
       "      <td>10034113</td>\n",
       "      <td>Midwest</td>\n",
       "      <td>29638290</td>\n",
       "      <td>18769116</td>\n",
       "      <td>6979192</td>\n",
       "      <td>69.9</td>\n",
       "      <td>5615530</td>\n",
       "      <td>1756102</td>\n",
       "      <td>1615024</td>\n",
       "      <td>...</td>\n",
       "      <td>6921128</td>\n",
       "      <td>6221234</td>\n",
       "      <td>09/27/2023</td>\n",
       "      <td>01/01/2020</td>\n",
       "      <td>09/23/2023</td>\n",
       "      <td>All Sexes</td>\n",
       "      <td>All Ages</td>\n",
       "      <td>37102.0</td>\n",
       "      <td>412252.0</td>\n",
       "      <td>18475.0</td>\n",
       "    </tr>\n",
       "  </tbody>\n",
       "</table>\n",
       "<p>5 rows × 22 columns</p>\n",
       "</div>"
      ],
      "text/plain": [
       "           State  2022 Population Estimate     Region  \\\n",
       "0  Massachusetts                   6981974  Northeast   \n",
       "1     New Jersey                   9261699  Northeast   \n",
       "2   Pennsylvania                  12972008  Northeast   \n",
       "3       Illinois                  12582032    Midwest   \n",
       "4       Michigan                  10034113    Midwest   \n",
       "\n",
       "   Total doses distributed  Total doses administered by jurisdiction  \\\n",
       "0                 23747420                                  18179748   \n",
       "1                 29637655                                  19826065   \n",
       "2                 42895735                                  27586432   \n",
       "3                 38328915                                  26859342   \n",
       "4                 29638290                                  18769116   \n",
       "\n",
       "   Residents with at least one dose  \\\n",
       "0                           7393770   \n",
       "1                           8430561   \n",
       "2                          11666613   \n",
       "3                          10036899   \n",
       "4                           6979192   \n",
       "\n",
       "   Percent of total pop with at least one dose  \\\n",
       "0                                         95.0   \n",
       "1                                         94.9   \n",
       "2                                         91.1   \n",
       "3                                         79.2   \n",
       "4                                         69.9   \n",
       "\n",
       "   Residents 18+ with a completed primary series  \\\n",
       "0                                        5087207   \n",
       "1                                        6195423   \n",
       "2                                        8447352   \n",
       "3                                        7874806   \n",
       "4                                        5615530   \n",
       "\n",
       "   Residents 65+ with at least one dose  \\\n",
       "0                               1549552   \n",
       "1                               1686625   \n",
       "2                               2919117   \n",
       "3                               2011136   \n",
       "4                               1756102   \n",
       "\n",
       "   Residents 65+ with a completed primary series  ...  \\\n",
       "0                                        1229041  ...   \n",
       "1                                        1439157  ...   \n",
       "2                                        2445124  ...   \n",
       "3                                        1865350  ...   \n",
       "4                                        1615024  ...   \n",
       "\n",
       "   Residents 5+ with at least one dose  \\\n",
       "0                              7306432   \n",
       "1                              8374653   \n",
       "2                             11562144   \n",
       "3                              9928857   \n",
       "4                              6921128   \n",
       "\n",
       "   Residents 5+ with a completed primary series  Data As Of  Start Date  \\\n",
       "0                                       5770765  09/27/2023  01/01/2020   \n",
       "1                                       7008596  09/27/2023  01/01/2020   \n",
       "2                                       9373738  09/27/2023  01/01/2020   \n",
       "3                                       8988132  09/27/2023  01/01/2020   \n",
       "4                                       6221234  09/27/2023  01/01/2020   \n",
       "\n",
       "     End Date        Sex Age Group COVID-19 Deaths Total Deaths  \\\n",
       "0  09/23/2023  All Sexes  All Ages         21286.0     240422.0   \n",
       "1  09/23/2023  All Sexes  All Ages         35691.0     312963.0   \n",
       "2  09/23/2023  All Sexes  All Ages         53049.0     557522.0   \n",
       "3  09/23/2023  All Sexes  All Ages         38724.0     446027.0   \n",
       "4  09/23/2023  All Sexes  All Ages         37102.0     412252.0   \n",
       "\n",
       "   Pneumonia and COVID-19 Deaths  \n",
       "0                         8700.0  \n",
       "1                        17287.0  \n",
       "2                        22981.0  \n",
       "3                        19882.0  \n",
       "4                        18475.0  \n",
       "\n",
       "[5 rows x 22 columns]"
      ]
     },
     "execution_count": 171,
     "metadata": {},
     "output_type": "execute_result"
    }
   ],
   "source": [
    "large_data_df.head()"
   ]
  },
  {
   "cell_type": "code",
   "execution_count": null,
   "metadata": {},
   "outputs": [],
   "source": [
    "# xl_deaths_index= pd.DataFrame({'Total Deaths':[667846,915140,1178346],\n",
    "#                            'COVID-19 Deaths':[80440,81894,109248],\n",
    "#                            'Pneumonia and COVID-19 Deaths':[22981,50161,62152]},\n",
    "#                            index=['New York','Florida','California'])\n",
    "\n",
    "xl_ny= pd.DataFrame({'Total Deaths':[667846],\n",
    "                            'COVID-19 Deaths':[80440],\n",
    "                            'Pneumonia and COVID-19 Deaths':[22981,]},\n",
    "                            index=['New York'])\n"
   ]
  },
  {
   "cell_type": "code",
   "execution_count": null,
   "metadata": {},
   "outputs": [],
   "source": [
    "xl_ny_pie= xl_ny.T.plot.pie(subplots=True,autopct='%1.1f%%',figsize=(20,10),shadow=True,)"
   ]
  },
  {
   "cell_type": "code",
   "execution_count": null,
   "metadata": {},
   "outputs": [],
   "source": [
    "# lg_deaths_index= pd.DataFrame({'Total Deaths':[557522,446027,412252],\n",
    "#                            'COVID-19 Deaths':[53049,38724,37102],\n",
    "#                            'Pneumonia and COVID-19 Deaths':[22981,19882,18475]},\n",
    "#                            index=['Pennsylvania','Illinois','Michigan'])\n",
    "lg_pennsylvania= pd.DataFrame({'Total Deaths':[557522],\n",
    "                           'COVID-19 Deaths':[53049],\n",
    "                           'Pneumonia and COVID-19 Deaths':[22981]},\n",
    "                           index=['Pennsylvania'])\n"
   ]
  },
  {
   "cell_type": "code",
   "execution_count": null,
   "metadata": {},
   "outputs": [],
   "source": [
    "lg_state_pie= lg_pennsylvania.T.plot.pie(subplots=True,autopct='%1.1f%%',figsize=(20,10),shadow=True,)"
   ]
  },
  {
   "cell_type": "code",
   "execution_count": null,
   "metadata": {},
   "outputs": [],
   "source": [
    "# xl_distributed= pd.DataFrame({'Total doses distributed':[61302975,61526685,121107865]\n",
    "#                               ,'Total doses administered by jurisdiction':[45177512,42267369,88487852]},\n",
    "#                               index=['New York','Florida','California'])\n",
    "\n",
    "xl_distributed= pd.DataFrame({'Total doses distributed':[61302975]\n",
    "                              ,'Total doses administered by jurisdiction':[45177512]},\n",
    "                              index=['New York'])\n"
   ]
  },
  {
   "cell_type": "code",
   "execution_count": null,
   "metadata": {},
   "outputs": [],
   "source": [
    "xl_dist_vs_admin_pie= xl_distributed.T.plot.pie(subplots=True,autopct='%1.1f%%',figsize=(20,15),shadow=True,)"
   ]
  },
  {
   "cell_type": "code",
   "execution_count": null,
   "metadata": {},
   "outputs": [],
   "source": [
    "# lg_distributed= pd.DataFrame({'Total doses distributed':[42895735,38328915,29638290]\n",
    "#                               ,'Total doses administered by jurisdiction':[27586432,26859342,18769116]},\n",
    "#                               index=['Pennsylvania','Illinois','Michigan'])\n",
    "lg_distributed= pd.DataFrame({'Total doses distributed':[42895735]\n",
    "                              ,'Total doses administered by jurisdiction':[27586432]},\n",
    "                              index=['Pennsylvania'])\n"
   ]
  },
  {
   "cell_type": "code",
   "execution_count": null,
   "metadata": {},
   "outputs": [],
   "source": [
    "lg_dist_vs_admin_pie= lg_distributed.T.plot.pie(subplots=True,autopct='%1.1f%%',figsize=(30,15),shadow=True,)"
   ]
  },
  {
   "cell_type": "code",
   "execution_count": 169,
   "metadata": {},
   "outputs": [],
   "source": [
    "# xl_one_dose_index= pd.DataFrame({'Total doses distributed':[\t61302975,61526685,121107865],\n",
    "#                            'Residents with at least one dose':[18427712,17810446,33613401\t],\n",
    "#                           },\n",
    "#                            index=['New York','Florida','California'])\n",
    "xl_one_dose_index= pd.DataFrame({'2022 Population Estimate':[19677151],\n",
    "                           'Residents with at least one dose':[18427712],\n",
    "                          },\n",
    "                           index=['New York'])\n"
   ]
  },
  {
   "cell_type": "code",
   "execution_count": null,
   "metadata": {},
   "outputs": [],
   "source": [
    "xl_pop_vs_dose_pie= xl_one_dose_index.T.plot.pie(subplots=True,autopct='%1.1f%%',figsize=(30,15),shadow=True,)"
   ]
  },
  {
   "cell_type": "code",
   "execution_count": 172,
   "metadata": {},
   "outputs": [],
   "source": [
    "# lg_one_dose_index= pd.DataFrame({'Total doses distributed':[42895735,38328915,29638290],\n",
    "#                            'Residents with at least one dose':[11666613,10036899,6979192\t\t],\n",
    "#                           },\n",
    "#                            index=['Pennsylvania','Illinois','Michigan'])\n",
    "lg_one_dose_index= pd.DataFrame({'2022 Population Estimate':[12972008],\n",
    "                           'Residents with at least one dose':[11666613],\n",
    "                          },\n",
    "                           index=['Pennsylvania'])\n"
   ]
  },
  {
   "cell_type": "code",
   "execution_count": 173,
   "metadata": {},
   "outputs": [
    {
     "data": {
      "image/png": "[encoded data removed]",
      "text/plain": [
       "<Figure size 3000x1500 with 1 Axes>"
      ]
     },
     "metadata": {},
     "output_type": "display_data"
    }
   ],
   "source": [
    "lg_pop_vs_dose_pie= lg_one_dose_index.T.plot.pie(subplots=True,autopct='%1.1f%%',figsize=(30,15),shadow=True,)"
   ]
  },
  {
   "cell_type": "code",
   "execution_count": null,
   "metadata": {},
   "outputs": [],
   "source": [
    "xl_one_series_index= pd.DataFrame({'Residents 65+ with a completed primary series':[3195894,4244393,5441414],\n",
    "                           'Residents 18+ with a completed primary series':[14013838,13732833,25681179],\n",
    "                           'Residents 12+ with a completed primary series':[15041636,14571195,27956563],\n",
    "                           'Residents 5+ with a completed primary series':[15686124,14946304,29371810]},\n",
    "                           index=['New York','Florida','California'])\n"
   ]
  },
  {
   "cell_type": "code",
   "execution_count": null,
   "metadata": {},
   "outputs": [],
   "source": [
    "xl_one_series_pie= xl_one_series_index.T.plot.pie(subplots=True,autopct='%1.1f%%',figsize=(30,15),shadow=True,)"
   ]
  },
  {
   "cell_type": "code",
   "execution_count": null,
   "metadata": {},
   "outputs": [],
   "source": [
    "lg_one_series_index= pd.DataFrame({'Residents 65+ with a completed primary series':[2445124,1865350,1615024],\n",
    "                           'Residents 18+ with a completed primary series':[8447352,7874806,5615530],\n",
    "                           'Residents 12+ with a completed primary series':[9003735,8534152,5984396],\n",
    "                           'Residents 5+ with a completed primary series':[9373738,8988132,6221234]},\n",
    "                           index=['Pennsylvania','Illinois','Michigan'])\n",
    "\n"
   ]
  },
  {
   "cell_type": "code",
   "execution_count": null,
   "metadata": {},
   "outputs": [],
   "source": [
    "lg_one_series_pie= lg_one_series_index.T.plot.pie(subplots=True,autopct='%1.1f%%',figsize=(40,15),shadow=True,)"
   ]
  }
 ],
 "metadata": {
  "kernelspec": {
   "display_name": "base",
   "language": "python",
   "name": "python3"
  },
  "language_info": {
   "codemirror_mode": {
    "name": "ipython",
    "version": 3
   },
   "file_extension": ".py",
   "mimetype": "text/x-python",
   "name": "python",
   "nbconvert_exporter": "python",
   "pygments_lexer": "ipython3",
   "version": "3.11.5"
  },
  "orig_nbformat": 4
 },
 "nbformat": 4,
 "nbformat_minor": 2
}
