{
 "cells": [
  {
   "cell_type": "code",
   "execution_count": null,
   "metadata": {},
   "outputs": [],
   "source": [
    "import pandas as pd\n",
    "import matplotlib.pyplot as plt\n",
    "import scipy.stats as st\n",
    "import numpy as np\n"
   ]
  },
  {
   "cell_type": "code",
   "execution_count": null,
   "metadata": {},
   "outputs": [],
   "source": [
    "xl_data_df= pd.read_csv(\"../data/XL_state_rows.csv\")\n",
    "large_data_df= pd.read_csv(\"../data/large_state_rows.csv\")\n",
    "medium_data_df= pd.read_csv(\"../data/medium_state_rows.csv\")\n",
    "small_data_df=pd.read_csv(\"../data/small_state_rows.csv\")\n",
    "# small_data_df.head(20)"
   ]
  },
  {
   "cell_type": "code",
   "execution_count": null,
   "metadata": {},
   "outputs": [],
   "source": [
    "xl_ny= pd.DataFrame({'Total Deaths':[667846],\n",
    "                            'COVID-19 Deaths':[80440],\n",
    "                            'Pneumonia and COVID-19 Deaths':[22981,]},\n",
    "                            index=['New York'])\n",
    "xl_ny_pie= xl_ny.T.plot.pie(subplots=True,autopct='%1.1f%%',figsize=(20,10),shadow=True,)"
   ]
  },
  {
   "cell_type": "code",
   "execution_count": null,
   "metadata": {},
   "outputs": [],
   "source": [
    "lg_pennsylvania= pd.DataFrame({'Total Deaths':[557522],\n",
    "                           'COVID-19 Deaths':[53049],\n",
    "                           'Pneumonia and COVID-19 Deaths':[22981]},\n",
    "                           index=['Pennsylvania'])\n",
    "lg_state_pie= lg_pennsylvania.T.plot.pie(subplots=True,autopct='%1.1f%%',figsize=(20,10),shadow=True,)"
   ]
  },
  {
   "cell_type": "code",
   "execution_count": null,
   "metadata": {},
   "outputs": [],
   "source": [
    "xl_one_dose_index= pd.DataFrame({'2022 Population Estimate':[19677151],\n",
    "                           'Residents with at least one dose':[18427712],\n",
    "                          },\n",
    "                           index=['New York'])\n",
    "xl_pop_vs_dose_pie= xl_one_dose_index.T.plot.pie(subplots=True,autopct='%1.1f%%',figsize=(30,15),shadow=True,)"
   ]
  },
  {
   "cell_type": "code",
   "execution_count": null,
   "metadata": {},
   "outputs": [],
   "source": [
    "lg_one_dose_index= pd.DataFrame({'2022 Population Estimate':[12972008],\n",
    "                           'Residents with at least one dose':[11666613],\n",
    "                          },\n",
    "                           index=['Pennsylvania'])\n",
    "lg_pop_vs_dose_pie= lg_one_dose_index.T.plot.pie(subplots=True,autopct='%1.1f%%',figsize=(30,15),shadow=True,)"
   ]
  },
  {
   "cell_type": "code",
   "execution_count": null,
   "metadata": {},
   "outputs": [],
   "source": [
    "xl_one_series_index= pd.DataFrame({'Residents 65+ with a completed primary series':[3195894,4244393,5441414],\n",
    "                           'Residents 18+ with a completed primary series':[14013838,13732833,25681179],\n",
    "                           'Residents 12+ with a completed primary series':[15041636,14571195,27956563],\n",
    "                           'Residents 5+ with a completed primary series':[15686124,14946304,29371810]},\n",
    "                           index=['New York','Florida','California'])\n",
    "xl_one_series_pie= xl_one_series_index.T.plot.pie(subplots=True,autopct='%1.1f%%',figsize=(30,15),shadow=True,)"
   ]
  },
  {
   "cell_type": "code",
   "execution_count": null,
   "metadata": {},
   "outputs": [],
   "source": [
    "lg_one_series_index= pd.DataFrame({'Residents 65+ with a completed primary series':[2445124,1865350,1615024],\n",
    "                           'Residents 18+ with a completed primary series':[8447352,7874806,5615530],\n",
    "                           'Residents 12+ with a completed primary series':[9003735,8534152,5984396],\n",
    "                           'Residents 5+ with a completed primary series':[9373738,8988132,6221234]},\n",
    "                           index=['Pennsylvania','Illinois','Michigan'])"
   ]
  },
  {
   "cell_type": "code",
   "execution_count": null,
   "metadata": {},
   "outputs": [],
   "source": [
    "lg_one_series_pie= lg_one_series_index.T.plot.pie(subplots=True,autopct='%1.1f%%',figsize=(40,15),shadow=True,)"
   ]
  }
 ],
 "metadata": {
  "kernelspec": {
   "display_name": "base",
   "language": "python",
   "name": "python3"
  },
  "language_info": {
   "codemirror_mode": {
    "name": "ipython",
    "version": 3
   },
   "file_extension": ".py",
   "mimetype": "text/x-python",
   "name": "python",
   "nbconvert_exporter": "python",
   "pygments_lexer": "ipython3",
   "version": "3.11.5"
  },
  "orig_nbformat": 4
 },
 "nbformat": 4,
 "nbformat_minor": 2
}
