{
 "cells": [
  {
   "cell_type": "code",
   "execution_count": 1,
   "metadata": {},
   "outputs": [],
   "source": [
    "import pandas as pd\n",
    "import matplotlib.pyplot as plt\n",
    "import scipy.stats as st\n",
    "import numpy as np"
   ]
  },
  {
   "cell_type": "code",
   "execution_count": null,
   "metadata": {},
   "outputs": [],
   "source": [
    "# creat file path to csv\n",
    "data_df= pd.read_csv(\"../data/Provisional_COVID-19_Deaths_by_Sex_and_Age.csv\")\n",
    "data_df.head()\n",
    "\n",
    "#delete unecessary columns\n",
    "covid_deaths_df= data_df[['Data As Of','State','Start Date','End Date','Sex',\n",
    "                                     'Age Group','COVID-19 Deaths','Total Deaths','Pneumonia and COVID-19 Deaths',\n",
    "                                     ]]\n",
    "#covid_deaths_df.head()     \n",
    "\n",
    "#removing male/female\n",
    "all_sexes_covid_deaths_df= covid_deaths_df.loc[(covid_deaths_df['Sex']=='All Sexes')&(covid_deaths_df['Age Group']=='All Ages')]\n",
    "#all_sexes_covid_deaths_df.head()\n",
    "#confirming which states are under column state in order to filter out any unwanted \"states\"\n",
    "unique_values = all_sexes_covid_deaths_df['State'].unique()\n",
    "#unique_values\n",
    "#filter out unwanted data in the States column that we are not using for analysis\n",
    "filtered_by_state= all_sexes_covid_deaths_df.loc[(all_sexes_covid_deaths_df ['State']!='Puerto Rico') & (all_sexes_covid_deaths_df['State']!='United States')\n",
    "                                      & (all_sexes_covid_deaths_df['State']!= 'District of Columbia')] \n",
    "\n",
    "filling_null_df= filtered_by_state.fillna(0) \n",
    "#filling_null_df.head()\n",
    "#drop duplicates\n",
    "drop_dupe= filling_null_df.drop_duplicates(subset=['State'])\n",
    "#drop_dupe.head()"
   ]
  },
  {
   "cell_type": "code",
   "execution_count": null,
   "metadata": {},
   "outputs": [],
   "source": [
    "# drop_dupe.to_csv(\"CLEAN_FINAL2_Provisional_COVID-19_Deaths_by_Sex_and_Age.csv\", index = False)\n",
    "# drop_dupe.head()"
   ]
  },
  {
   "cell_type": "code",
   "execution_count": null,
   "metadata": {},
   "outputs": [],
   "source": [
    "unique_values = drop_dupe['State'].unique()\n",
    "unique_values"
   ]
  },
  {
   "cell_type": "code",
   "execution_count": null,
   "metadata": {},
   "outputs": [],
   "source": [
    "# clean_df=pd.read_csv(\"../data/CLEAN_FINAL2_Provisional_COVID-19_Deaths_by_Sex_and_Age.csv\")\n",
    "# clean_df.head(53)"
   ]
  }
 ],
 "metadata": {
  "kernelspec": {
   "display_name": "base",
   "language": "python",
   "name": "python3"
  },
  "language_info": {
   "codemirror_mode": {
    "name": "ipython",
    "version": 3
   },
   "file_extension": ".py",
   "mimetype": "text/x-python",
   "name": "python",
   "nbconvert_exporter": "python",
   "pygments_lexer": "ipython3",
   "version": "3.11.5"
  },
  "orig_nbformat": 4
 },
 "nbformat": 4,
 "nbformat_minor": 2
}
