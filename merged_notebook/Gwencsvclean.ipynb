{
 "cells": [
  {
   "cell_type": "code",
   "execution_count": null,
   "metadata": {},
   "outputs": [],
   "source": [
    "import matplotlib.pyplot as plt\n",
    "import pandas as pd\n",
    "import numpy as np\n",
    "import requests\n",
    "import time\n",
    "import scipy.stats as stats\n",
    "import seaborn as sns\n",
    "import hvplot.pandas"
   ]
  },
  {
   "cell_type": "code",
   "execution_count": null,
   "metadata": {},
   "outputs": [],
   "source": [
    "usstates = pd.read_csv('../data/NST-EST2022-POPCHG2020_2022.csv')\n",
    "state_pop = pd.DataFrame(usstates)\n",
    "state_pop.head()"
   ]
  },
  {
   "cell_type": "code",
   "execution_count": null,
   "metadata": {},
   "outputs": [],
   "source": [
    "filtered_usstate_df = state_pop[['NAME', 'POPESTIMATE2022']]\n",
    "state_pop = pd.DataFrame(filtered_usstate_df)\n",
    "state_pop_df = state_pop.rename(columns={'NAME': \"State\", \"POPESTIMATE2022\": \"2022 Population Estimate\"})\n",
    "state_pop_df.head()"
   ]
  },
  {
   "cell_type": "code",
   "execution_count": null,
   "metadata": {},
   "outputs": [],
   "source": [
    "#\n",
    "def assign_region(state):\n",
    "    # Replace these conditions with your criteria\n",
    "    if state in ['Maine', 'New Hampshire', 'Vermont', 'Massachusetts', 'Rhode Island', 'Connecticut', 'New York','New York City', 'New Jersey', 'Pennsylvania']:\n",
    "        return 'Northeast'\n",
    "    elif state in ['Ohio', 'Michigan', 'Indiana', 'Illinois', 'Wisconsin', 'Minnesota', 'Iowa', 'Missouri']:\n",
    "        return 'Midwest'\n",
    "    elif state in ['Delaware', 'Maryland', 'Virginia', 'West Virginia', 'Kentucky', 'North Carolina', 'South Carolina', 'Georgia', 'Florida', 'Alabama', 'Tennessee', 'Mississippi', 'Louisiana', 'Arkansas', 'Texas', 'Oklahoma', 'Kansas', 'South Dakota', 'North Dakota', 'Nebraska']:\n",
    "        return 'South'\n",
    "    elif state in ['Montana', 'Idaho', 'Wyoming', 'Colorado', 'New Mexico', 'Arizona', 'Utah', 'Nevada', 'California', 'Oregon', 'Washington', 'Alaska', 'Hawaii']:\n",
    "        return 'West'\n",
    "    else:\n",
    "        return 'Unknown'\n",
    "state_pop_df['Region'] = state_pop_df['State'].apply(assign_region)\n",
    "\n",
    "region_dfs = {region: group for region, group in state_pop_df.groupby('Region')}\n",
    "\n",
    "northeast_df = region_dfs.get('Northeast')\n",
    "midwest_df = region_dfs.get('Midwest')\n",
    "south_df = region_dfs.get('South')\n",
    "west_df = region_dfs.get('West')\n",
    "unknown_df = region_dfs.get('Unknown')\n",
    "\n",
    "regions_df = pd.concat([northeast_df, midwest_df, south_df, west_df], ignore_index=True)\n",
    "\n",
    "regions_df.to_csv('../data/CLEAN_regionpopulation.csv', index=False)"
   ]
  }
 ],
 "metadata": {
  "language_info": {
   "name": "python"
  }
 },
 "nbformat": 4,
 "nbformat_minor": 2
}
