{
 "cells": [
  {
   "cell_type": "code",
   "execution_count": null,
   "metadata": {},
   "outputs": [],
   "source": [
    "#import pandas\n",
    "import pandas as pd\n",
    "import matplotlib.pyplot as plt"
   ]
  },
  {
   "cell_type": "markdown",
   "metadata": {},
   "source": [
    "cleans a csv"
   ]
  },
  {
   "cell_type": "code",
   "execution_count": null,
   "metadata": {},
   "outputs": [],
   "source": [
    "#file path\n",
    "file_path = \"../data/NH_CovidVaxAverages_20230917.csv\""
   ]
  },
  {
   "cell_type": "code",
   "execution_count": null,
   "metadata": {},
   "outputs": [],
   "source": [
    "#read in file using pandas\n",
    "NH_vax_averages = pd.read_csv(file_path)\n",
    "\n",
    "#display first 10 rows\n",
    "#NH_vax_averages.head(10)"
   ]
  },
  {
   "cell_type": "code",
   "execution_count": null,
   "metadata": {},
   "outputs": [],
   "source": [
    "#creates new dataframe without the staff column\n",
    "NH_vax_averages_CLEAN = NH_vax_averages[[\"State\", \"Percent of residents who are up-to-date on their vaccines\", \"Date vaccination data last updated\"]]\n",
    "\n",
    "#display first 10 rows\n",
    "#NH_vax_averages_CLEAN.head(15)"
   ]
  },
  {
   "cell_type": "code",
   "execution_count": null,
   "metadata": {},
   "outputs": [],
   "source": [
    "#removes Guam and Puerto Rico from the dataset \n",
    "NH_vax_averages_CLEAN = NH_vax_averages_CLEAN.drop(labels = [8, 12, 41])\n",
    "\n",
    "#display first 10 rows\n",
    "#NH_vax_averages_CLEAN.head(20)"
   ]
  },
  {
   "cell_type": "code",
   "execution_count": null,
   "metadata": {},
   "outputs": [],
   "source": [
    "#pushes out a new csv\n",
    "#NH_vax_averages_CLEAN.to_csv(\"../data/CLEAN_NH_CovidVaxAverages_20230917.csv\", index = False)"
   ]
  },
  {
   "cell_type": "markdown",
   "metadata": {},
   "source": [
    "creates population bar graph from merged csv"
   ]
  },
  {
   "cell_type": "code",
   "execution_count": null,
   "metadata": {},
   "outputs": [],
   "source": [
    "#file path\n",
    "path_to_merged_clean = \"../data/CLEAN_merged_all.csv\""
   ]
  },
  {
   "cell_type": "code",
   "execution_count": null,
   "metadata": {},
   "outputs": [],
   "source": [
    "#read in file using pandas\n",
    "clean_merged_df = pd.read_csv(path_to_merged_clean)"
   ]
  },
  {
   "cell_type": "code",
   "execution_count": null,
   "metadata": {},
   "outputs": [],
   "source": [
    "#displays head\n",
    "#clean_merged_df.head()"
   ]
  },
  {
   "cell_type": "code",
   "execution_count": null,
   "metadata": {},
   "outputs": [],
   "source": [
    "#creates a population bar chart \n",
    "pop_bar_chart = clean_merged_df.plot(kind = \"bar\", figsize = (15, 8), x = \"State\", y = \"2022 Population Estimate\")\n",
    "#titles the bar chart \n",
    "plt.title(\"Population in Every State\")"
   ]
  },
  {
   "cell_type": "markdown",
   "metadata": {},
   "source": [
    "creates small, medium, and large state primary visuals"
   ]
  },
  {
   "cell_type": "code",
   "execution_count": null,
   "metadata": {},
   "outputs": [],
   "source": [
    "#file paths\n",
    "path_to_small = \"../data/small_state_rows.csv\"\n",
    "path_to_med = \"../data/medium_state_rows.csv\"\n",
    "path_to_lg = \"../data/large_state_rows.csv\""
   ]
  },
  {
   "cell_type": "code",
   "execution_count": null,
   "metadata": {},
   "outputs": [],
   "source": [
    "#read in file using pandas\n",
    "small_state_df = pd.read_csv(path_to_small)\n",
    "med_state_df = pd.read_csv(path_to_med)\n",
    "lg_state_df = pd.read_csv(path_to_lg)"
   ]
  },
  {
   "cell_type": "code",
   "execution_count": null,
   "metadata": {},
   "outputs": [],
   "source": [
    "small_chart = small_state_df.plot(kind='bar', figsize=(13,6), x='State', y=['Total doses distributed',\n",
    "                                                                  'Total doses administered by jurisdiction',\n",
    "                                                                 'Residents 65+ with a completed primary series',\n",
    "                                                                 'Residents 18+ with a completed primary series',\n",
    "                                                                 'Residents 12+ with a completed primary series',\n",
    "                                                                 'Residents 5+ with a completed primary series'],\n",
    "                                                                 rot=0, color=['black', 'orange', 'red','purple', 'pink', \"gray\"])\n",
    "plt.title(\"Doses in Small Population States\")\n",
    "# plt.ylabel()\n",
    "plt.tight_layout()\n",
    "#12 states"
   ]
  },
  {
   "cell_type": "code",
   "execution_count": null,
   "metadata": {},
   "outputs": [],
   "source": [
    "med_chart = med_state_df.plot(kind='bar', figsize=(22,8), x='State', y=['Total doses distributed',\n",
    "                                                                  'Total doses administered by jurisdiction',\n",
    "                                                                 'Residents 65+ with a completed primary series',\n",
    "                                                                 'Residents 18+ with a completed primary series',\n",
    "                                                                 'Residents 12+ with a completed primary series',\n",
    "                                                                 'Residents 5+ with a completed primary series'],\n",
    "                                                                 rot=0, color=['black', 'orange', 'red','purple', 'pink', \"gray\"])\n",
    "plt.title(\"Doses in Medium Population States\")\n",
    "# plt.ylabel()\n",
    "plt.tight_layout()\n",
    "#22 states"
   ]
  },
  {
   "cell_type": "code",
   "execution_count": null,
   "metadata": {},
   "outputs": [],
   "source": [
    "lg_chart = lg_state_df.plot(kind='bar', figsize=(13,6), x='State', y=['Total doses distributed',\n",
    "                                                                  'Total doses administered by jurisdiction',\n",
    "                                                                 'Residents 65+ with a completed primary series',\n",
    "                                                                 'Residents 18+ with a completed primary series',\n",
    "                                                                 'Residents 12+ with a completed primary series',\n",
    "                                                                 'Residents 5+ with a completed primary series'],\n",
    "                                                                 rot=0, color=['black', 'orange', 'red','purple', 'pink', \"gray\"])\n",
    "plt.title(\"Doses in Large Population States\")\n",
    "# plt.ylabel()\n",
    "plt.tight_layout()\n",
    "#12 states"
   ]
  }
 ],
 "metadata": {
  "language_info": {
   "name": "python"
  }
 },
 "nbformat": 4,
 "nbformat_minor": 2
}
